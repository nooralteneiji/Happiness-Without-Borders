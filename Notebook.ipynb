{
 "cells": [
  {
   "cell_type": "markdown",
   "id": "d4ac125b-9eaa-4b29-bb73-b1af7bed5692",
   "metadata": {
    "jp-MarkdownHeadingCollapsed": true,
    "tags": []
   },
   "source": [
    "# Prepare enviroment"
   ]
  },
  {
   "cell_type": "code",
   "execution_count": 103,
   "id": "f0a46ff8-ef52-41a0-8f0e-9f2b79e97915",
   "metadata": {
    "collapsed": true,
    "jupyter": {
     "outputs_hidden": true
    },
    "tags": []
   },
   "outputs": [
    {
     "name": "stdout",
     "output_type": "stream",
     "text": [
      "Requirement already satisfied: d3blocks in /Users/noor/opt/anaconda3/lib/python3.9/site-packages (1.3.0)\n",
      "Requirement already satisfied: circos in /Users/noor/opt/anaconda3/lib/python3.9/site-packages (1.3.5)\n",
      "Requirement already satisfied: scikit-learn in /Users/noor/opt/anaconda3/lib/python3.9/site-packages (from d3blocks) (1.0.2)\n",
      "Requirement already satisfied: pandas in /Users/noor/opt/anaconda3/lib/python3.9/site-packages (from d3blocks) (1.4.4)\n",
      "Requirement already satisfied: jinja2 in /Users/noor/opt/anaconda3/lib/python3.9/site-packages (from d3blocks) (3.1.2)\n",
      "Requirement already satisfied: ismember>=1.0.1 in /Users/noor/opt/anaconda3/lib/python3.9/site-packages (from d3blocks) (1.0.2)\n",
      "Requirement already satisfied: numpy in /Users/noor/opt/anaconda3/lib/python3.9/site-packages (from d3blocks) (1.24.2)\n",
      "Requirement already satisfied: elasticgraph>=0.1.2 in /Users/noor/opt/anaconda3/lib/python3.9/site-packages (from d3blocks) (0.2.0)\n",
      "Requirement already satisfied: requests in /Users/noor/opt/anaconda3/lib/python3.9/site-packages (from d3blocks) (2.28.1)\n",
      "Requirement already satisfied: d3graph>=2.4.6 in /Users/noor/opt/anaconda3/lib/python3.9/site-packages (from d3blocks) (2.4.6)\n",
      "Requirement already satisfied: colourmap>=1.1.10 in /Users/noor/opt/anaconda3/lib/python3.9/site-packages (from d3blocks) (1.1.14)\n",
      "Requirement already satisfied: tqdm in /Users/noor/opt/anaconda3/lib/python3.9/site-packages (from d3blocks) (4.64.1)\n",
      "Requirement already satisfied: pycodestyle in /Users/noor/opt/anaconda3/lib/python3.9/site-packages (from circos) (2.8.0)\n",
      "Requirement already satisfied: matplotlib in /Users/noor/opt/anaconda3/lib/python3.9/site-packages (from circos) (3.5.2)\n",
      "Requirement already satisfied: setuptools in /Users/noor/opt/anaconda3/lib/python3.9/site-packages (from circos) (63.4.1)\n",
      "Requirement already satisfied: python-louvain in /Users/noor/opt/anaconda3/lib/python3.9/site-packages (from d3graph>=2.4.6->d3blocks) (0.16)\n",
      "Requirement already satisfied: networkx>2 in /Users/noor/opt/anaconda3/lib/python3.9/site-packages (from d3graph>=2.4.6->d3blocks) (2.8.4)\n",
      "Requirement already satisfied: packaging in /Users/noor/opt/anaconda3/lib/python3.9/site-packages (from d3graph>=2.4.6->d3blocks) (21.3)\n",
      "Requirement already satisfied: markupsafe==2.0.1 in /Users/noor/opt/anaconda3/lib/python3.9/site-packages (from d3graph>=2.4.6->d3blocks) (2.0.1)\n",
      "Requirement already satisfied: python-dateutil>=2.7 in /Users/noor/opt/anaconda3/lib/python3.9/site-packages (from matplotlib->circos) (2.8.2)\n",
      "Requirement already satisfied: fonttools>=4.22.0 in /Users/noor/opt/anaconda3/lib/python3.9/site-packages (from matplotlib->circos) (4.25.0)\n",
      "Requirement already satisfied: cycler>=0.10 in /Users/noor/opt/anaconda3/lib/python3.9/site-packages (from matplotlib->circos) (0.11.0)\n",
      "Requirement already satisfied: kiwisolver>=1.0.1 in /Users/noor/opt/anaconda3/lib/python3.9/site-packages (from matplotlib->circos) (1.4.2)\n",
      "Requirement already satisfied: pillow>=6.2.0 in /Users/noor/opt/anaconda3/lib/python3.9/site-packages (from matplotlib->circos) (9.2.0)\n",
      "Requirement already satisfied: pyparsing>=2.2.1 in /Users/noor/opt/anaconda3/lib/python3.9/site-packages (from matplotlib->circos) (3.0.9)\n",
      "Requirement already satisfied: pytz>=2020.1 in /Users/noor/opt/anaconda3/lib/python3.9/site-packages (from pandas->d3blocks) (2022.1)\n",
      "Requirement already satisfied: certifi>=2017.4.17 in /Users/noor/opt/anaconda3/lib/python3.9/site-packages (from requests->d3blocks) (2022.9.24)\n",
      "Requirement already satisfied: urllib3<1.27,>=1.21.1 in /Users/noor/opt/anaconda3/lib/python3.9/site-packages (from requests->d3blocks) (1.26.11)\n",
      "Requirement already satisfied: idna<4,>=2.5 in /Users/noor/opt/anaconda3/lib/python3.9/site-packages (from requests->d3blocks) (3.3)\n",
      "Requirement already satisfied: charset-normalizer<3,>=2 in /Users/noor/opt/anaconda3/lib/python3.9/site-packages (from requests->d3blocks) (2.0.4)\n",
      "Requirement already satisfied: scipy>=1.1.0 in /Users/noor/opt/anaconda3/lib/python3.9/site-packages (from scikit-learn->d3blocks) (1.9.1)\n",
      "Requirement already satisfied: joblib>=0.11 in /Users/noor/opt/anaconda3/lib/python3.9/site-packages (from scikit-learn->d3blocks) (1.1.0)\n",
      "Requirement already satisfied: threadpoolctl>=2.0.0 in /Users/noor/opt/anaconda3/lib/python3.9/site-packages (from scikit-learn->d3blocks) (2.2.0)\n",
      "Requirement already satisfied: six>=1.5 in /Users/noor/opt/anaconda3/lib/python3.9/site-packages (from python-dateutil>=2.7->matplotlib->circos) (1.16.0)\n"
     ]
    }
   ],
   "source": [
    "!pip install d3blocks circos"
   ]
  },
  {
   "cell_type": "code",
   "execution_count": 86,
   "id": "77c54d8d-d127-45c7-ad22-2e188b98b8d5",
   "metadata": {},
   "outputs": [],
   "source": [
    "import pandas as pd\n",
    "import os\n",
    "import numpy as np\n",
    "import matplotlib.pyplot as plt\n",
    "\n",
    "# to create chord diagram \n",
    "from d3blocks import D3Blocks \n",
    "import holoviews as hv\n",
    "from holoviews import opts, dim"
   ]
  },
  {
   "cell_type": "markdown",
   "id": "40bba3b6-1abb-4200-b248-6e5cd598f226",
   "metadata": {},
   "source": [
    "# Import raw data"
   ]
  },
  {
   "cell_type": "code",
   "execution_count": 105,
   "id": "0cc77bab-fe3e-4830-abe9-992b4e87d447",
   "metadata": {},
   "outputs": [],
   "source": [
    "df_migration = pd.read_csv('Raw Data/bilat_mig_type.csv')"
   ]
  },
  {
   "cell_type": "markdown",
   "id": "980c1f66-055d-4374-911b-09bf97815a4f",
   "metadata": {},
   "source": [
    "Clean up columns and change naming."
   ]
  },
  {
   "cell_type": "code",
   "execution_count": 106,
   "id": "2ecc8d9a-39c5-4705-a863-5db8cd4dcbdf",
   "metadata": {},
   "outputs": [
    {
     "data": {
      "text/html": [
       "<div>\n",
       "<style scoped>\n",
       "    .dataframe tbody tr th:only-of-type {\n",
       "        vertical-align: middle;\n",
       "    }\n",
       "\n",
       "    .dataframe tbody tr th {\n",
       "        vertical-align: top;\n",
       "    }\n",
       "\n",
       "    .dataframe thead th {\n",
       "        text-align: right;\n",
       "    }\n",
       "</style>\n",
       "<table border=\"1\" class=\"dataframe\">\n",
       "  <thead>\n",
       "    <tr style=\"text-align: right;\">\n",
       "      <th></th>\n",
       "      <th>year</th>\n",
       "      <th>origin</th>\n",
       "      <th>destination</th>\n",
       "      <th>type</th>\n",
       "      <th>migrationFlow</th>\n",
       "    </tr>\n",
       "  </thead>\n",
       "  <tbody>\n",
       "    <tr>\n",
       "      <th>0</th>\n",
       "      <td>1990</td>\n",
       "      <td>BDI</td>\n",
       "      <td>BDI</td>\n",
       "      <td>transit</td>\n",
       "      <td>0.0</td>\n",
       "    </tr>\n",
       "    <tr>\n",
       "      <th>1</th>\n",
       "      <td>1990</td>\n",
       "      <td>BDI</td>\n",
       "      <td>BDI</td>\n",
       "      <td>outward</td>\n",
       "      <td>0.0</td>\n",
       "    </tr>\n",
       "    <tr>\n",
       "      <th>2</th>\n",
       "      <td>1990</td>\n",
       "      <td>BDI</td>\n",
       "      <td>BDI</td>\n",
       "      <td>return</td>\n",
       "      <td>0.0</td>\n",
       "    </tr>\n",
       "    <tr>\n",
       "      <th>3</th>\n",
       "      <td>1990</td>\n",
       "      <td>COM</td>\n",
       "      <td>BDI</td>\n",
       "      <td>transit</td>\n",
       "      <td>0.0</td>\n",
       "    </tr>\n",
       "    <tr>\n",
       "      <th>4</th>\n",
       "      <td>1990</td>\n",
       "      <td>COM</td>\n",
       "      <td>BDI</td>\n",
       "      <td>outward</td>\n",
       "      <td>0.0</td>\n",
       "    </tr>\n",
       "  </tbody>\n",
       "</table>\n",
       "</div>"
      ],
      "text/plain": [
       "   year origin destination     type  migrationFlow\n",
       "0  1990    BDI         BDI  transit            0.0\n",
       "1  1990    BDI         BDI  outward            0.0\n",
       "2  1990    BDI         BDI   return            0.0\n",
       "3  1990    COM         BDI  transit            0.0\n",
       "4  1990    COM         BDI  outward            0.0"
      ]
     },
     "execution_count": 106,
     "metadata": {},
     "output_type": "execute_result"
    }
   ],
   "source": [
    "df_migration.rename(columns={'year0': 'year', 'orig':'origin', 'dest':'destination','da_pb_closed':'migrationFlow'}, inplace=True)\n",
    "df_migration.drop(columns=['da_min_open', 'da_min_closed'], inplace=True)\n",
    "df_migration.head()"
   ]
  },
  {
   "cell_type": "code",
   "execution_count": null,
   "id": "764d1bf4-6992-4683-b2f0-16d16d750162",
   "metadata": {},
   "outputs": [],
   "source": []
  }
 ],
 "metadata": {
  "kernelspec": {
   "display_name": "Python 3 (ipykernel)",
   "language": "python",
   "name": "python3"
  },
  "language_info": {
   "codemirror_mode": {
    "name": "ipython",
    "version": 3
   },
   "file_extension": ".py",
   "mimetype": "text/x-python",
   "name": "python",
   "nbconvert_exporter": "python",
   "pygments_lexer": "ipython3",
   "version": "3.9.13"
  }
 },
 "nbformat": 4,
 "nbformat_minor": 5
}
